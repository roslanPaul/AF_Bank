{
  "nbformat": 4,
  "nbformat_minor": 0,
  "metadata": {
    "colab": {
      "provenance": [],
      "authorship_tag": "ABX9TyP7V6Ydjik7rg6OQpIwsaPf",
      "include_colab_link": true
    },
    "kernelspec": {
      "name": "python3",
      "display_name": "Python 3"
    },
    "language_info": {
      "name": "python"
    }
  },
  "cells": [
    {
      "cell_type": "markdown",
      "metadata": {
        "id": "view-in-github",
        "colab_type": "text"
      },
      "source": [
        "<a href=\"https://colab.research.google.com/github/roslanPaul/AF_Bank/blob/main/AF_MoussaDossou_RoslanNzambaNzamba_2025.ipynb\" target=\"_parent\"><img src=\"https://colab.research.google.com/assets/colab-badge.svg\" alt=\"Open In Colab\"/></a>"
      ]
    },
    {
      "cell_type": "code",
      "execution_count": 1,
      "metadata": {
        "colab": {
          "base_uri": "https://localhost:8080/"
        },
        "id": "rkxdMMjVonMc",
        "outputId": "d297bcb0-5b3a-4b65-9728-961b1b869a77"
      },
      "outputs": [
        {
          "output_type": "stream",
          "name": "stdout",
          "text": [
            "Mounted at /content/drive\n"
          ]
        }
      ],
      "source": [
        "from google.colab import drive\n",
        "drive.mount('/content/drive')"
      ]
    },
    {
      "cell_type": "code",
      "source": [
        "import os\n",
        "os.getcwd() # Current Working directory"
      ],
      "metadata": {
        "colab": {
          "base_uri": "https://localhost:8080/",
          "height": 35
        },
        "id": "S6m08v2qs2YC",
        "outputId": "2ef06327-fee2-43e8-d523-1ed7dae0619e"
      },
      "execution_count": 2,
      "outputs": [
        {
          "output_type": "execute_result",
          "data": {
            "text/plain": [
              "'/content'"
            ],
            "application/vnd.google.colaboratory.intrinsic+json": {
              "type": "string"
            }
          },
          "metadata": {},
          "execution_count": 2
        }
      ]
    },
    {
      "cell_type": "code",
      "source": [
        "# Create Working Directory if necessary\n",
        "\n",
        "PROJECT_ROOT_DIR = \"/content/drive/MyDrive/Colab Notebooks/Cours Data Analyse\"\n",
        "\n",
        "os.makedirs(PROJECT_ROOT_DIR, exist_ok=True)\n",
        "\n",
        "# Change the current working directory\n",
        "\n",
        "os.chdir(PROJECT_ROOT_DIR)\n",
        "\n",
        "os.getcwd() # Current Working directory"
      ],
      "metadata": {
        "colab": {
          "base_uri": "https://localhost:8080/",
          "height": 35
        },
        "id": "zeoIbALWs9WC",
        "outputId": "522e62c4-6da3-4a91-b3d0-567114973fda"
      },
      "execution_count": 3,
      "outputs": [
        {
          "output_type": "execute_result",
          "data": {
            "text/plain": [
              "'/content/drive/MyDrive/Colab Notebooks/Cours Data Analyse'"
            ],
            "application/vnd.google.colaboratory.intrinsic+json": {
              "type": "string"
            }
          },
          "metadata": {},
          "execution_count": 3
        }
      ]
    },
    {
      "cell_type": "code",
      "source": [
        "import pandas as pd\n",
        "import numpy as np\n",
        "from google.colab import files"
      ],
      "metadata": {
        "id": "fYQ5AUhMtheS"
      },
      "execution_count": 4,
      "outputs": []
    },
    {
      "cell_type": "code",
      "source": [
        "print(\"Telecharger le fichier csv:\")\n",
        "uploaded = files.upload()\n",
        "\n",
        "file_name = list(uploaded.keys())[0]"
      ],
      "metadata": {
        "colab": {
          "base_uri": "https://localhost:8080/",
          "height": 90
        },
        "id": "afT9A624tv8T",
        "outputId": "71ce4819-42fe-48fa-c4d8-c34d33193e4d"
      },
      "execution_count": 7,
      "outputs": [
        {
          "output_type": "stream",
          "name": "stdout",
          "text": [
            "Telecharger le fichier csv:\n"
          ]
        },
        {
          "output_type": "display_data",
          "data": {
            "text/plain": [
              "<IPython.core.display.HTML object>"
            ],
            "text/html": [
              "\n",
              "     <input type=\"file\" id=\"files-25232d1d-5812-4e69-82e8-1222b353002e\" name=\"files[]\" multiple disabled\n",
              "        style=\"border:none\" />\n",
              "     <output id=\"result-25232d1d-5812-4e69-82e8-1222b353002e\">\n",
              "      Upload widget is only available when the cell has been executed in the\n",
              "      current browser session. Please rerun this cell to enable.\n",
              "      </output>\n",
              "      <script>// Copyright 2017 Google LLC\n",
              "//\n",
              "// Licensed under the Apache License, Version 2.0 (the \"License\");\n",
              "// you may not use this file except in compliance with the License.\n",
              "// You may obtain a copy of the License at\n",
              "//\n",
              "//      http://www.apache.org/licenses/LICENSE-2.0\n",
              "//\n",
              "// Unless required by applicable law or agreed to in writing, software\n",
              "// distributed under the License is distributed on an \"AS IS\" BASIS,\n",
              "// WITHOUT WARRANTIES OR CONDITIONS OF ANY KIND, either express or implied.\n",
              "// See the License for the specific language governing permissions and\n",
              "// limitations under the License.\n",
              "\n",
              "/**\n",
              " * @fileoverview Helpers for google.colab Python module.\n",
              " */\n",
              "(function(scope) {\n",
              "function span(text, styleAttributes = {}) {\n",
              "  const element = document.createElement('span');\n",
              "  element.textContent = text;\n",
              "  for (const key of Object.keys(styleAttributes)) {\n",
              "    element.style[key] = styleAttributes[key];\n",
              "  }\n",
              "  return element;\n",
              "}\n",
              "\n",
              "// Max number of bytes which will be uploaded at a time.\n",
              "const MAX_PAYLOAD_SIZE = 100 * 1024;\n",
              "\n",
              "function _uploadFiles(inputId, outputId) {\n",
              "  const steps = uploadFilesStep(inputId, outputId);\n",
              "  const outputElement = document.getElementById(outputId);\n",
              "  // Cache steps on the outputElement to make it available for the next call\n",
              "  // to uploadFilesContinue from Python.\n",
              "  outputElement.steps = steps;\n",
              "\n",
              "  return _uploadFilesContinue(outputId);\n",
              "}\n",
              "\n",
              "// This is roughly an async generator (not supported in the browser yet),\n",
              "// where there are multiple asynchronous steps and the Python side is going\n",
              "// to poll for completion of each step.\n",
              "// This uses a Promise to block the python side on completion of each step,\n",
              "// then passes the result of the previous step as the input to the next step.\n",
              "function _uploadFilesContinue(outputId) {\n",
              "  const outputElement = document.getElementById(outputId);\n",
              "  const steps = outputElement.steps;\n",
              "\n",
              "  const next = steps.next(outputElement.lastPromiseValue);\n",
              "  return Promise.resolve(next.value.promise).then((value) => {\n",
              "    // Cache the last promise value to make it available to the next\n",
              "    // step of the generator.\n",
              "    outputElement.lastPromiseValue = value;\n",
              "    return next.value.response;\n",
              "  });\n",
              "}\n",
              "\n",
              "/**\n",
              " * Generator function which is called between each async step of the upload\n",
              " * process.\n",
              " * @param {string} inputId Element ID of the input file picker element.\n",
              " * @param {string} outputId Element ID of the output display.\n",
              " * @return {!Iterable<!Object>} Iterable of next steps.\n",
              " */\n",
              "function* uploadFilesStep(inputId, outputId) {\n",
              "  const inputElement = document.getElementById(inputId);\n",
              "  inputElement.disabled = false;\n",
              "\n",
              "  const outputElement = document.getElementById(outputId);\n",
              "  outputElement.innerHTML = '';\n",
              "\n",
              "  const pickedPromise = new Promise((resolve) => {\n",
              "    inputElement.addEventListener('change', (e) => {\n",
              "      resolve(e.target.files);\n",
              "    });\n",
              "  });\n",
              "\n",
              "  const cancel = document.createElement('button');\n",
              "  inputElement.parentElement.appendChild(cancel);\n",
              "  cancel.textContent = 'Cancel upload';\n",
              "  const cancelPromise = new Promise((resolve) => {\n",
              "    cancel.onclick = () => {\n",
              "      resolve(null);\n",
              "    };\n",
              "  });\n",
              "\n",
              "  // Wait for the user to pick the files.\n",
              "  const files = yield {\n",
              "    promise: Promise.race([pickedPromise, cancelPromise]),\n",
              "    response: {\n",
              "      action: 'starting',\n",
              "    }\n",
              "  };\n",
              "\n",
              "  cancel.remove();\n",
              "\n",
              "  // Disable the input element since further picks are not allowed.\n",
              "  inputElement.disabled = true;\n",
              "\n",
              "  if (!files) {\n",
              "    return {\n",
              "      response: {\n",
              "        action: 'complete',\n",
              "      }\n",
              "    };\n",
              "  }\n",
              "\n",
              "  for (const file of files) {\n",
              "    const li = document.createElement('li');\n",
              "    li.append(span(file.name, {fontWeight: 'bold'}));\n",
              "    li.append(span(\n",
              "        `(${file.type || 'n/a'}) - ${file.size} bytes, ` +\n",
              "        `last modified: ${\n",
              "            file.lastModifiedDate ? file.lastModifiedDate.toLocaleDateString() :\n",
              "                                    'n/a'} - `));\n",
              "    const percent = span('0% done');\n",
              "    li.appendChild(percent);\n",
              "\n",
              "    outputElement.appendChild(li);\n",
              "\n",
              "    const fileDataPromise = new Promise((resolve) => {\n",
              "      const reader = new FileReader();\n",
              "      reader.onload = (e) => {\n",
              "        resolve(e.target.result);\n",
              "      };\n",
              "      reader.readAsArrayBuffer(file);\n",
              "    });\n",
              "    // Wait for the data to be ready.\n",
              "    let fileData = yield {\n",
              "      promise: fileDataPromise,\n",
              "      response: {\n",
              "        action: 'continue',\n",
              "      }\n",
              "    };\n",
              "\n",
              "    // Use a chunked sending to avoid message size limits. See b/62115660.\n",
              "    let position = 0;\n",
              "    do {\n",
              "      const length = Math.min(fileData.byteLength - position, MAX_PAYLOAD_SIZE);\n",
              "      const chunk = new Uint8Array(fileData, position, length);\n",
              "      position += length;\n",
              "\n",
              "      const base64 = btoa(String.fromCharCode.apply(null, chunk));\n",
              "      yield {\n",
              "        response: {\n",
              "          action: 'append',\n",
              "          file: file.name,\n",
              "          data: base64,\n",
              "        },\n",
              "      };\n",
              "\n",
              "      let percentDone = fileData.byteLength === 0 ?\n",
              "          100 :\n",
              "          Math.round((position / fileData.byteLength) * 100);\n",
              "      percent.textContent = `${percentDone}% done`;\n",
              "\n",
              "    } while (position < fileData.byteLength);\n",
              "  }\n",
              "\n",
              "  // All done.\n",
              "  yield {\n",
              "    response: {\n",
              "      action: 'complete',\n",
              "    }\n",
              "  };\n",
              "}\n",
              "\n",
              "scope.google = scope.google || {};\n",
              "scope.google.colab = scope.google.colab || {};\n",
              "scope.google.colab._files = {\n",
              "  _uploadFiles,\n",
              "  _uploadFilesContinue,\n",
              "};\n",
              "})(self);\n",
              "</script> "
            ]
          },
          "metadata": {}
        },
        {
          "output_type": "stream",
          "name": "stdout",
          "text": [
            "Saving BankChurners.csv to BankChurners (1).csv\n"
          ]
        }
      ]
    },
    {
      "cell_type": "code",
      "source": [
        "data = pd.read_csv(file_name)"
      ],
      "metadata": {
        "id": "8q-1z6dpuB9f"
      },
      "execution_count": 8,
      "outputs": []
    },
    {
      "cell_type": "code",
      "source": [
        "# Afficher les 5 premières lignes pour vérifier le chargement\n",
        "print(\"Aperçu des 5 premières lignes du DataFrame :\")\n",
        "print(data.head())"
      ],
      "metadata": {
        "colab": {
          "base_uri": "https://localhost:8080/"
        },
        "id": "MF2kCSSQu121",
        "outputId": "a65b283d-1ee6-4041-fae9-3079a1449f65"
      },
      "execution_count": 9,
      "outputs": [
        {
          "output_type": "stream",
          "name": "stdout",
          "text": [
            "Aperçu des 5 premières lignes du DataFrame :\n",
            "   CLIENTNUM     Attrition_Flag  Customer_Age Gender  Dependent_count  \\\n",
            "0  768805383  Existing Customer            45      M                3   \n",
            "1  818770008  Existing Customer            49      F                5   \n",
            "2  713982108  Existing Customer            51      M                3   \n",
            "3  769911858  Existing Customer            40      F                4   \n",
            "4  709106358  Existing Customer            40      M                3   \n",
            "\n",
            "  Education_Level Marital_Status Income_Category Card_Category  \\\n",
            "0     High School        Married     $60K - $80K          Blue   \n",
            "1        Graduate         Single  Less than $40K          Blue   \n",
            "2        Graduate        Married    $80K - $120K          Blue   \n",
            "3     High School        Unknown  Less than $40K          Blue   \n",
            "4      Uneducated        Married     $60K - $80K          Blue   \n",
            "\n",
            "   Months_on_book  ...  Credit_Limit  Total_Revolving_Bal  Avg_Open_To_Buy  \\\n",
            "0              39  ...       12691.0                  777          11914.0   \n",
            "1              44  ...        8256.0                  864           7392.0   \n",
            "2              36  ...        3418.0                    0           3418.0   \n",
            "3              34  ...        3313.0                 2517            796.0   \n",
            "4              21  ...        4716.0                    0           4716.0   \n",
            "\n",
            "   Total_Amt_Chng_Q4_Q1  Total_Trans_Amt  Total_Trans_Ct  Total_Ct_Chng_Q4_Q1  \\\n",
            "0                 1.335             1144              42                1.625   \n",
            "1                 1.541             1291              33                3.714   \n",
            "2                 2.594             1887              20                2.333   \n",
            "3                 1.405             1171              20                2.333   \n",
            "4                 2.175              816              28                2.500   \n",
            "\n",
            "   Avg_Utilization_Ratio  \\\n",
            "0                  0.061   \n",
            "1                  0.105   \n",
            "2                  0.000   \n",
            "3                  0.760   \n",
            "4                  0.000   \n",
            "\n",
            "   Naive_Bayes_Classifier_Attrition_Flag_Card_Category_Contacts_Count_12_mon_Dependent_count_Education_Level_Months_Inactive_12_mon_1  \\\n",
            "0                                           0.000093                                                                                    \n",
            "1                                           0.000057                                                                                    \n",
            "2                                           0.000021                                                                                    \n",
            "3                                           0.000134                                                                                    \n",
            "4                                           0.000022                                                                                    \n",
            "\n",
            "   Naive_Bayes_Classifier_Attrition_Flag_Card_Category_Contacts_Count_12_mon_Dependent_count_Education_Level_Months_Inactive_12_mon_2  \n",
            "0                                            0.99991                                                                                   \n",
            "1                                            0.99994                                                                                   \n",
            "2                                            0.99998                                                                                   \n",
            "3                                            0.99987                                                                                   \n",
            "4                                            0.99998                                                                                   \n",
            "\n",
            "[5 rows x 23 columns]\n"
          ]
        }
      ]
    },
    {
      "cell_type": "code",
      "source": [
        "# Étape 1.2 : Vérifier la structure des données\n",
        "print(\"\\nInformations sur le DataFrame :\")\n",
        "print(data.info())\n",
        "\n",
        "# Vérifier les dimensions (nombre de lignes et colonnes)\n",
        "print(f\"\\nDimensions du DataFrame : {data.shape}\")"
      ],
      "metadata": {
        "colab": {
          "base_uri": "https://localhost:8080/"
        },
        "id": "V6aI_ohIvGJ8",
        "outputId": "6678d3d6-41ba-40e4-e3d0-ef92377975ef"
      },
      "execution_count": 10,
      "outputs": [
        {
          "output_type": "stream",
          "name": "stdout",
          "text": [
            "\n",
            "Informations sur le DataFrame :\n",
            "<class 'pandas.core.frame.DataFrame'>\n",
            "RangeIndex: 10127 entries, 0 to 10126\n",
            "Data columns (total 23 columns):\n",
            " #   Column                                                                                                                              Non-Null Count  Dtype  \n",
            "---  ------                                                                                                                              --------------  -----  \n",
            " 0   CLIENTNUM                                                                                                                           10127 non-null  int64  \n",
            " 1   Attrition_Flag                                                                                                                      10127 non-null  object \n",
            " 2   Customer_Age                                                                                                                        10127 non-null  int64  \n",
            " 3   Gender                                                                                                                              10127 non-null  object \n",
            " 4   Dependent_count                                                                                                                     10127 non-null  int64  \n",
            " 5   Education_Level                                                                                                                     10127 non-null  object \n",
            " 6   Marital_Status                                                                                                                      10127 non-null  object \n",
            " 7   Income_Category                                                                                                                     10127 non-null  object \n",
            " 8   Card_Category                                                                                                                       10127 non-null  object \n",
            " 9   Months_on_book                                                                                                                      10127 non-null  int64  \n",
            " 10  Total_Relationship_Count                                                                                                            10127 non-null  int64  \n",
            " 11  Months_Inactive_12_mon                                                                                                              10127 non-null  int64  \n",
            " 12  Contacts_Count_12_mon                                                                                                               10127 non-null  int64  \n",
            " 13  Credit_Limit                                                                                                                        10127 non-null  float64\n",
            " 14  Total_Revolving_Bal                                                                                                                 10127 non-null  int64  \n",
            " 15  Avg_Open_To_Buy                                                                                                                     10127 non-null  float64\n",
            " 16  Total_Amt_Chng_Q4_Q1                                                                                                                10127 non-null  float64\n",
            " 17  Total_Trans_Amt                                                                                                                     10127 non-null  int64  \n",
            " 18  Total_Trans_Ct                                                                                                                      10127 non-null  int64  \n",
            " 19  Total_Ct_Chng_Q4_Q1                                                                                                                 10127 non-null  float64\n",
            " 20  Avg_Utilization_Ratio                                                                                                               10127 non-null  float64\n",
            " 21  Naive_Bayes_Classifier_Attrition_Flag_Card_Category_Contacts_Count_12_mon_Dependent_count_Education_Level_Months_Inactive_12_mon_1  10127 non-null  float64\n",
            " 22  Naive_Bayes_Classifier_Attrition_Flag_Card_Category_Contacts_Count_12_mon_Dependent_count_Education_Level_Months_Inactive_12_mon_2  10127 non-null  float64\n",
            "dtypes: float64(7), int64(10), object(6)\n",
            "memory usage: 1.8+ MB\n",
            "None\n",
            "\n",
            "Dimensions du DataFrame : (10127, 23)\n"
          ]
        }
      ]
    },
    {
      "cell_type": "code",
      "source": [
        "# Étape 1.3 : Vérifier les valeurs manquantes\n",
        "print(\"\\nNombre de valeurs manquantes par colonne :\")\n",
        "print(data.isnull().sum())"
      ],
      "metadata": {
        "colab": {
          "base_uri": "https://localhost:8080/"
        },
        "id": "s9BihRPAvUa5",
        "outputId": "56a5daff-57f6-4383-c7ec-87488cf54f98"
      },
      "execution_count": 11,
      "outputs": [
        {
          "output_type": "stream",
          "name": "stdout",
          "text": [
            "\n",
            "Nombre de valeurs manquantes par colonne :\n",
            "CLIENTNUM                                                                                                                             0\n",
            "Attrition_Flag                                                                                                                        0\n",
            "Customer_Age                                                                                                                          0\n",
            "Gender                                                                                                                                0\n",
            "Dependent_count                                                                                                                       0\n",
            "Education_Level                                                                                                                       0\n",
            "Marital_Status                                                                                                                        0\n",
            "Income_Category                                                                                                                       0\n",
            "Card_Category                                                                                                                         0\n",
            "Months_on_book                                                                                                                        0\n",
            "Total_Relationship_Count                                                                                                              0\n",
            "Months_Inactive_12_mon                                                                                                                0\n",
            "Contacts_Count_12_mon                                                                                                                 0\n",
            "Credit_Limit                                                                                                                          0\n",
            "Total_Revolving_Bal                                                                                                                   0\n",
            "Avg_Open_To_Buy                                                                                                                       0\n",
            "Total_Amt_Chng_Q4_Q1                                                                                                                  0\n",
            "Total_Trans_Amt                                                                                                                       0\n",
            "Total_Trans_Ct                                                                                                                        0\n",
            "Total_Ct_Chng_Q4_Q1                                                                                                                   0\n",
            "Avg_Utilization_Ratio                                                                                                                 0\n",
            "Naive_Bayes_Classifier_Attrition_Flag_Card_Category_Contacts_Count_12_mon_Dependent_count_Education_Level_Months_Inactive_12_mon_1    0\n",
            "Naive_Bayes_Classifier_Attrition_Flag_Card_Category_Contacts_Count_12_mon_Dependent_count_Education_Level_Months_Inactive_12_mon_2    0\n",
            "dtype: int64\n"
          ]
        }
      ]
    },
    {
      "cell_type": "code",
      "source": [
        "# Étape 1.4 : Supprimer les doublons (basé sur CLIENTNUM)\n",
        "data = data.drop_duplicates(subset='CLIENTNUM', keep='first')\n",
        "print(f\"\\nDimensions après suppression des doublons : {data.shape}\")"
      ],
      "metadata": {
        "colab": {
          "base_uri": "https://localhost:8080/"
        },
        "id": "hhH50qCSvdDL",
        "outputId": "aca85085-f580-46aa-83c2-2b312adf106d"
      },
      "execution_count": 12,
      "outputs": [
        {
          "output_type": "stream",
          "name": "stdout",
          "text": [
            "\n",
            "Dimensions après suppression des doublons : (10127, 23)\n"
          ]
        }
      ]
    },
    {
      "cell_type": "code",
      "source": [
        "# Étape 1.5 : Nettoyage des données\n",
        "# Supprimer les colonnes inutiles (Naive Bayes Classifier, car ce sont des outputs prédéfinis)\n",
        "columns_to_drop = [\n",
        "    'Naive_Bayes_Classifier_Attrition_Flag_Card_Category_Contacts_Count_12_mon_Dependent_count_Education_Level_Months_Inactive_12_mon_1',\n",
        "    'Naive_Bayes_Classifier_Attrition_Flag_Card_Category_Contacts_Count_12_mon_Dependent_count_Education_Level_Months_Inactive_12_mon_2'\n",
        "]\n",
        "data = data.drop(columns=columns_to_drop, errors='ignore')"
      ],
      "metadata": {
        "id": "K32pRBTYvpnF"
      },
      "execution_count": 13,
      "outputs": []
    },
    {
      "cell_type": "code",
      "source": [
        "# Vérifier les valeurs uniques des colonnes qualitatives\n",
        "qualitative_cols = ['Attrition_Flag', 'Gender', 'Education_Level', 'Marital_Status', 'Income_Category', 'Card_Category']\n",
        "print(\"\\nValeurs uniques des colonnes qualitatives :\")\n",
        "for col in qualitative_cols:\n",
        "    print(f\"{col}: {data[col].unique()}\")"
      ],
      "metadata": {
        "colab": {
          "base_uri": "https://localhost:8080/"
        },
        "id": "erMu8qpnvzPM",
        "outputId": "2759f50b-c8e1-48bc-ff3a-b01570151ce1"
      },
      "execution_count": 14,
      "outputs": [
        {
          "output_type": "stream",
          "name": "stdout",
          "text": [
            "\n",
            "Valeurs uniques des colonnes qualitatives :\n",
            "Attrition_Flag: ['Existing Customer' 'Attrited Customer']\n",
            "Gender: ['M' 'F']\n",
            "Education_Level: ['High School' 'Graduate' 'Uneducated' 'Unknown' 'College' 'Post-Graduate'\n",
            " 'Doctorate']\n",
            "Marital_Status: ['Married' 'Single' 'Unknown' 'Divorced']\n",
            "Income_Category: ['$60K - $80K' 'Less than $40K' '$80K - $120K' '$40K - $60K' '$120K +'\n",
            " 'Unknown']\n",
            "Card_Category: ['Blue' 'Gold' 'Silver' 'Platinum']\n"
          ]
        }
      ]
    },
    {
      "cell_type": "code",
      "source": [
        "# Gérer les valeurs 'Unknown' comme des valeurs manquantes\n",
        "data[qualitative_cols] = data[qualitative_cols].replace('Unknown', np.nan)\n",
        "\n",
        "# Afficher à nouveau les valeurs manquantes après remplacement\n",
        "print(\"\\nNombre de valeurs manquantes après remplacement des 'Unknown' :\")\n",
        "print(data.isnull().sum())"
      ],
      "metadata": {
        "colab": {
          "base_uri": "https://localhost:8080/"
        },
        "id": "9677mbGbv7Zy",
        "outputId": "5ba5db9e-e741-429e-b2f6-4d979b000220"
      },
      "execution_count": 15,
      "outputs": [
        {
          "output_type": "stream",
          "name": "stdout",
          "text": [
            "\n",
            "Nombre de valeurs manquantes après remplacement des 'Unknown' :\n",
            "CLIENTNUM                      0\n",
            "Attrition_Flag                 0\n",
            "Customer_Age                   0\n",
            "Gender                         0\n",
            "Dependent_count                0\n",
            "Education_Level             1519\n",
            "Marital_Status               749\n",
            "Income_Category             1112\n",
            "Card_Category                  0\n",
            "Months_on_book                 0\n",
            "Total_Relationship_Count       0\n",
            "Months_Inactive_12_mon         0\n",
            "Contacts_Count_12_mon          0\n",
            "Credit_Limit                   0\n",
            "Total_Revolving_Bal            0\n",
            "Avg_Open_To_Buy                0\n",
            "Total_Amt_Chng_Q4_Q1           0\n",
            "Total_Trans_Amt                0\n",
            "Total_Trans_Ct                 0\n",
            "Total_Ct_Chng_Q4_Q1            0\n",
            "Avg_Utilization_Ratio          0\n",
            "dtype: int64\n"
          ]
        }
      ]
    },
    {
      "cell_type": "code",
      "source": [
        "# Imputer les valeurs manquantes pour les colonnes qualitatives (par la mode)\n",
        "for col in qualitative_cols:\n",
        "    if data[col].isnull().sum() > 0:\n",
        "        mode_value = data[col].mode()[0]\n",
        "        data[col].fillna(mode_value, inplace=True)\n",
        "\n",
        "# Vérifier une dernière fois les valeurs manquantes\n",
        "print(\"\\nNombre de valeurs manquantes après imputation :\")\n",
        "print(data.isnull().sum())"
      ],
      "metadata": {
        "colab": {
          "base_uri": "https://localhost:8080/"
        },
        "id": "NQfHAIL_wLfL",
        "outputId": "0c9937e5-158a-48b9-c03c-64e7a71eddc0"
      },
      "execution_count": 16,
      "outputs": [
        {
          "output_type": "stream",
          "name": "stdout",
          "text": [
            "\n",
            "Nombre de valeurs manquantes après imputation :\n",
            "CLIENTNUM                   0\n",
            "Attrition_Flag              0\n",
            "Customer_Age                0\n",
            "Gender                      0\n",
            "Dependent_count             0\n",
            "Education_Level             0\n",
            "Marital_Status              0\n",
            "Income_Category             0\n",
            "Card_Category               0\n",
            "Months_on_book              0\n",
            "Total_Relationship_Count    0\n",
            "Months_Inactive_12_mon      0\n",
            "Contacts_Count_12_mon       0\n",
            "Credit_Limit                0\n",
            "Total_Revolving_Bal         0\n",
            "Avg_Open_To_Buy             0\n",
            "Total_Amt_Chng_Q4_Q1        0\n",
            "Total_Trans_Amt             0\n",
            "Total_Trans_Ct              0\n",
            "Total_Ct_Chng_Q4_Q1         0\n",
            "Avg_Utilization_Ratio       0\n",
            "dtype: int64\n"
          ]
        },
        {
          "output_type": "stream",
          "name": "stderr",
          "text": [
            "<ipython-input-16-9836a105b5c1>:5: FutureWarning: A value is trying to be set on a copy of a DataFrame or Series through chained assignment using an inplace method.\n",
            "The behavior will change in pandas 3.0. This inplace method will never work because the intermediate object on which we are setting values always behaves as a copy.\n",
            "\n",
            "For example, when doing 'df[col].method(value, inplace=True)', try using 'df.method({col: value}, inplace=True)' or df[col] = df[col].method(value) instead, to perform the operation inplace on the original object.\n",
            "\n",
            "\n",
            "  data[col].fillna(mode_value, inplace=True)\n"
          ]
        }
      ]
    },
    {
      "cell_type": "code",
      "source": [
        "# Étape 1.6 : Conversion des types de données\n",
        "# Convertir les colonnes numériques en float (si elles ne le sont pas déjà)\n",
        "numeric_cols = [\n",
        "    'Customer_Age', 'Dependent_count', 'Months_on_book', 'Total_Relationship_Count',\n",
        "    'Months_Inactive_12_mon', 'Contacts_Count_12_mon', 'Credit_Limit', 'Total_Revolving_Bal',\n",
        "    'Avg_Open_To_Buy', 'Total_Amt_Chng_Q4_Q1', 'Total_Trans_Amt', 'Total_Trans_Ct',\n",
        "    'Total_Ct_Chng_Q4_Q1', 'Avg_Utilization_Ratio'\n",
        "]\n",
        "for col in numeric_cols:\n",
        "    data[col] = pd.to_numeric(data[col], errors='coerce')\n",
        "\n",
        "# Vérifier les types de données après conversion\n",
        "print(\"\\nTypes de données après conversion :\")\n",
        "print(data.dtypes)"
      ],
      "metadata": {
        "colab": {
          "base_uri": "https://localhost:8080/"
        },
        "id": "l-s3g_wTx2nY",
        "outputId": "febd952d-1324-4b38-b792-aadc6626b9c5"
      },
      "execution_count": 17,
      "outputs": [
        {
          "output_type": "stream",
          "name": "stdout",
          "text": [
            "\n",
            "Types de données après conversion :\n",
            "CLIENTNUM                     int64\n",
            "Attrition_Flag               object\n",
            "Customer_Age                  int64\n",
            "Gender                       object\n",
            "Dependent_count               int64\n",
            "Education_Level              object\n",
            "Marital_Status               object\n",
            "Income_Category              object\n",
            "Card_Category                object\n",
            "Months_on_book                int64\n",
            "Total_Relationship_Count      int64\n",
            "Months_Inactive_12_mon        int64\n",
            "Contacts_Count_12_mon         int64\n",
            "Credit_Limit                float64\n",
            "Total_Revolving_Bal           int64\n",
            "Avg_Open_To_Buy             float64\n",
            "Total_Amt_Chng_Q4_Q1        float64\n",
            "Total_Trans_Amt               int64\n",
            "Total_Trans_Ct                int64\n",
            "Total_Ct_Chng_Q4_Q1         float64\n",
            "Avg_Utilization_Ratio       float64\n",
            "dtype: object\n"
          ]
        }
      ]
    },
    {
      "cell_type": "code",
      "source": [
        "# Étape 1.7 : Encoder les variables qualitatives\n",
        "# Utiliser One-Hot Encoding pour les colonnes catégoriques\n",
        "data_encoded = pd.get_dummies(data, columns=['Gender', 'Education_Level', 'Marital_Status', 'Income_Category', 'Card_Category'], drop_first=True)\n",
        "\n",
        "# Convertir Attrition_Flag en binaire (0 pour Existing, 1 pour Attrited)\n",
        "data_encoded['Attrition_Flag'] = data_encoded['Attrition_Flag'].map({'Existing Customer': 0, 'Attrited Customer': 1})\n",
        "\n",
        "# Afficher les colonnes du DataFrame encodé\n",
        "print(\"\\nColonnes du DataFrame après encodage :\")\n",
        "print(data_encoded.columns)"
      ],
      "metadata": {
        "colab": {
          "base_uri": "https://localhost:8080/"
        },
        "id": "NkvDoHXWx-Dj",
        "outputId": "7faba350-f0b2-488b-e6e7-1b6caa7515c4"
      },
      "execution_count": 18,
      "outputs": [
        {
          "output_type": "stream",
          "name": "stdout",
          "text": [
            "\n",
            "Colonnes du DataFrame après encodage :\n",
            "Index(['CLIENTNUM', 'Attrition_Flag', 'Customer_Age', 'Dependent_count',\n",
            "       'Months_on_book', 'Total_Relationship_Count', 'Months_Inactive_12_mon',\n",
            "       'Contacts_Count_12_mon', 'Credit_Limit', 'Total_Revolving_Bal',\n",
            "       'Avg_Open_To_Buy', 'Total_Amt_Chng_Q4_Q1', 'Total_Trans_Amt',\n",
            "       'Total_Trans_Ct', 'Total_Ct_Chng_Q4_Q1', 'Avg_Utilization_Ratio',\n",
            "       'Gender_M', 'Education_Level_Doctorate', 'Education_Level_Graduate',\n",
            "       'Education_Level_High School', 'Education_Level_Post-Graduate',\n",
            "       'Education_Level_Uneducated', 'Marital_Status_Married',\n",
            "       'Marital_Status_Single', 'Income_Category_$40K - $60K',\n",
            "       'Income_Category_$60K - $80K', 'Income_Category_$80K - $120K',\n",
            "       'Income_Category_Less than $40K', 'Card_Category_Gold',\n",
            "       'Card_Category_Platinum', 'Card_Category_Silver'],\n",
            "      dtype='object')\n"
          ]
        }
      ]
    },
    {
      "cell_type": "code",
      "source": [
        "# Étape 1.8 : Statistiques descriptives initiales\n",
        "print(\"\\nStatistiques descriptives des colonnes numériques :\")\n",
        "print(data_encoded[numeric_cols].describe())\n",
        "\n",
        "# Sauvegarder le DataFrame prétraité pour les étapes suivantes\n",
        "data_encoded.to_csv('BankChurners_preprocessed.csv', index=False)\n",
        "print(\"\\nDataFrame prétraité sauvegardé sous 'BankChurners_preprocessed.csv'\")\n",
        "\n",
        "# Afficher un message de confirmation\n",
        "print(\"\\nÉtape 1 terminée : Données chargées, nettoyées et prétraitées avec succès !\")"
      ],
      "metadata": {
        "colab": {
          "base_uri": "https://localhost:8080/"
        },
        "id": "KiUwrR1uyG9S",
        "outputId": "9b4019fa-1017-4ccb-9bcf-be4ee975b52f"
      },
      "execution_count": 19,
      "outputs": [
        {
          "output_type": "stream",
          "name": "stdout",
          "text": [
            "\n",
            "Statistiques descriptives des colonnes numériques :\n",
            "       Customer_Age  Dependent_count  Months_on_book  \\\n",
            "count  10127.000000     10127.000000    10127.000000   \n",
            "mean      46.325960         2.346203       35.928409   \n",
            "std        8.016814         1.298908        7.986416   \n",
            "min       26.000000         0.000000       13.000000   \n",
            "25%       41.000000         1.000000       31.000000   \n",
            "50%       46.000000         2.000000       36.000000   \n",
            "75%       52.000000         3.000000       40.000000   \n",
            "max       73.000000         5.000000       56.000000   \n",
            "\n",
            "       Total_Relationship_Count  Months_Inactive_12_mon  \\\n",
            "count              10127.000000            10127.000000   \n",
            "mean                   3.812580                2.341167   \n",
            "std                    1.554408                1.010622   \n",
            "min                    1.000000                0.000000   \n",
            "25%                    3.000000                2.000000   \n",
            "50%                    4.000000                2.000000   \n",
            "75%                    5.000000                3.000000   \n",
            "max                    6.000000                6.000000   \n",
            "\n",
            "       Contacts_Count_12_mon  Credit_Limit  Total_Revolving_Bal  \\\n",
            "count           10127.000000  10127.000000         10127.000000   \n",
            "mean                2.455317   8631.953698          1162.814061   \n",
            "std                 1.106225   9088.776650           814.987335   \n",
            "min                 0.000000   1438.300000             0.000000   \n",
            "25%                 2.000000   2555.000000           359.000000   \n",
            "50%                 2.000000   4549.000000          1276.000000   \n",
            "75%                 3.000000  11067.500000          1784.000000   \n",
            "max                 6.000000  34516.000000          2517.000000   \n",
            "\n",
            "       Avg_Open_To_Buy  Total_Amt_Chng_Q4_Q1  Total_Trans_Amt  Total_Trans_Ct  \\\n",
            "count     10127.000000          10127.000000     10127.000000    10127.000000   \n",
            "mean       7469.139637              0.759941      4404.086304       64.858695   \n",
            "std        9090.685324              0.219207      3397.129254       23.472570   \n",
            "min           3.000000              0.000000       510.000000       10.000000   \n",
            "25%        1324.500000              0.631000      2155.500000       45.000000   \n",
            "50%        3474.000000              0.736000      3899.000000       67.000000   \n",
            "75%        9859.000000              0.859000      4741.000000       81.000000   \n",
            "max       34516.000000              3.397000     18484.000000      139.000000   \n",
            "\n",
            "       Total_Ct_Chng_Q4_Q1  Avg_Utilization_Ratio  \n",
            "count         10127.000000           10127.000000  \n",
            "mean              0.712222               0.274894  \n",
            "std               0.238086               0.275691  \n",
            "min               0.000000               0.000000  \n",
            "25%               0.582000               0.023000  \n",
            "50%               0.702000               0.176000  \n",
            "75%               0.818000               0.503000  \n",
            "max               3.714000               0.999000  \n",
            "\n",
            "DataFrame prétraité sauvegardé sous 'BankChurners_preprocessed.csv'\n",
            "\n",
            "Étape 1 terminée : Données chargées, nettoyées et prétraitées avec succès !\n"
          ]
        }
      ]
    }
  ]
}